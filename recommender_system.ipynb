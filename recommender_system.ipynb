{
  "nbformat": 4,
  "nbformat_minor": 0,
  "metadata": {
    "colab": {
      "name": "recommender system.ipynb",
      "provenance": [],
      "mount_file_id": "1hnlvxyTfLbeO3VJf7A1rT24NxzD7Nphx",
      "authorship_tag": "ABX9TyPe8oaU9na3kgC7n50EfJfu",
      "include_colab_link": true
    },
    "kernelspec": {
      "name": "python3",
      "display_name": "Python 3"
    },
    "language_info": {
      "name": "python"
    }
  },
  "cells": [
    {
      "cell_type": "markdown",
      "metadata": {
        "id": "view-in-github",
        "colab_type": "text"
      },
      "source": [
        "<a href=\"https://colab.research.google.com/github/snwagbata/recommendation_system/blob/main/recommender_system.ipynb\" target=\"_parent\"><img src=\"https://colab.research.google.com/assets/colab-badge.svg\" alt=\"Open In Colab\"/></a>"
      ]
    },
    {
      "cell_type": "markdown",
      "source": [
        "# Movie Recommendation System"
      ],
      "metadata": {
        "id": "i7d93ZACR_ao"
      }
    },
    {
      "cell_type": "markdown",
      "source": [
        "## Accessing the Dataset\n",
        "\n",
        "#### I have already uploaded the dataset to google drive folder and shared it with everyone. Access with the following steps\n",
        "\n",
        "**PLEASE READ THE STEPS!!!**\n",
        "1. Go to your Google Drive (drive.google.com) and check **\"Shared with me\"**\n",
        "2. Search for a folder named **\"dataset\"**\n",
        "3. Enter the **dataset** folder, click the name of the folder (**dataset**) on the bar at the top of the folder to create a drop-down and select **\"Add shortcut to Drive\"**\n",
        "4. Select **\"My Drive\"** and hit **\"Add Shortcut\"**\n",
        "11. Hit the folder icon on the left bar to expand the file system.\n",
        "12. Hit **\"Mount Drive\"** to allow Colab to access your files. Click the link and copy the code provided into the textbox and hit Enter."
      ],
      "metadata": {
        "id": "fNdSLYFFRMDa"
      }
    },
    {
      "cell_type": "markdown",
      "source": [
        "Add `!pip` installs and imports to notebook here."
      ],
      "metadata": {
        "id": "MKbufS9YOY1z"
      }
    },
    {
      "cell_type": "code",
      "source": [
        "from google.colab import drive\n",
        "import os"
      ],
      "metadata": {
        "id": "fUCR0q_IOVfz"
      },
      "execution_count": null,
      "outputs": []
    },
    {
      "cell_type": "markdown",
      "source": [
        "Mount drive"
      ],
      "metadata": {
        "id": "SsKWXFtsNYVW"
      }
    },
    {
      "cell_type": "code",
      "source": [
        "\n",
        "drive.mount('/content/drive')"
      ],
      "metadata": {
        "colab": {
          "base_uri": "https://localhost:8080/"
        },
        "id": "iK4lJkdHNcpr",
        "outputId": "89106246-c96d-41f0-8b2a-b2d472001459"
      },
      "execution_count": null,
      "outputs": [
        {
          "output_type": "stream",
          "name": "stdout",
          "text": [
            "Mounted at /content/drive\n"
          ]
        }
      ]
    },
    {
      "cell_type": "markdown",
      "source": [
        "Navigate to drive and list items"
      ],
      "metadata": {
        "id": "GiVyZpQlNob8"
      }
    },
    {
      "cell_type": "code",
      "source": [
        "os.chdir('/content/drive/MyDrive/dataset')\n",
        "%ls"
      ],
      "metadata": {
        "colab": {
          "base_uri": "https://localhost:8080/"
        },
        "id": "7T8pUD3GNnxo",
        "outputId": "4c3eae04-186d-45c4-eb7a-608888d6d739"
      },
      "execution_count": null,
      "outputs": [
        {
          "output_type": "stream",
          "name": "stdout",
          "text": [
            "credits.csv   links.csv        movies_metadata.csv  ratings_small.csv\n",
            "keywords.csv  links_small.csv  ratings.csv\n"
          ]
        }
      ]
    }
  ]
}